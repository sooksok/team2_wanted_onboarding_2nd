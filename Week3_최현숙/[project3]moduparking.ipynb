{
 "cells": [
  {
   "cell_type": "markdown",
   "id": "982237c9",
   "metadata": {},
   "source": [
    "# 💡 Project3 : 모두의 주차장 데이터를 활용하여 수요 예측하기"
   ]
  },
  {
   "cell_type": "markdown",
   "id": "44f16eb9",
   "metadata": {},
   "source": [
    "## ⚡ SUMMARY\n",
    "\n",
    "> **분석 목표** : 모두의 주차장 이용자별 향후 이용 건수 예측하기(향후 1개월 이용 예측)\n",
    "\n",
    "> **분석 자료** :   \n",
    "1 2020.01.01 ~ 2020.12-31 이용 데이터  \n",
    "2020.01.01 - 2020.09.30 : Training Data  \n",
    "2020.10.01 - 2020.12.31 : Test Data  \n",
    "2 외부 정보: 서울시 지점별 교통량 데이터 기온, 강수량, 풍속 등 기상데이터 \n",
    "\n",
    "> **결과 측정** : MSE, MAE\n",
    "    \n",
    "> **분석 결론** : "
   ]
  },
  {
   "cell_type": "markdown",
   "id": "d695ffdb",
   "metadata": {},
   "source": [
    "## ⚡ 목차"
   ]
  },
  {
   "cell_type": "markdown",
   "id": "9b27b209",
   "metadata": {},
   "source": [
    ">### 1. 프로젝트 개요\n",
    ">### 2. EDA 및 분석\n",
    ">### 3. 분석모형과 오차 계산"
   ]
  },
  {
   "cell_type": "markdown",
   "id": "8570c8b6",
   "metadata": {},
   "source": [
    "## ⚡ 1. 프로젝트 개요"
   ]
  },
  {
   "cell_type": "markdown",
   "id": "29b0bc59",
   "metadata": {},
   "source": [
    "모두의 주차장 이용자별 향후 이용 건수 예측하기(향후 1개월 이용 예측)\n",
    "\n",
    "<U>기본 데이터:</U> 2020.01.01 ~ 2020.12-31 이용 데이터  \n",
    "2020.01.01 - 2020.09.30 : Training Data  \n",
    "2020.10.01 - 2020.12.31 : Test Data   "
   ]
  },
  {
   "cell_type": "markdown",
   "id": "61872933",
   "metadata": {},
   "source": [
    "## ⚡ 2. EDA 및 분석"
   ]
  },
  {
   "cell_type": "code",
   "execution_count": 1,
   "id": "88fd0c64",
   "metadata": {},
   "outputs": [],
   "source": [
    "import pandas as pd\n",
    "import numpy as np\n",
    "import matplotlib as mpl\n",
    "import matplotlib.pyplot as plt\n",
    "from matplotlib.gridspec import GridSpec\n",
    "import seaborn as sns\n",
    "\n",
    "plt.rcParams['font.family'] = 'Malgun Gothic' # Windows용\n",
    "%matplotlib inline"
   ]
  },
  {
   "cell_type": "code",
   "execution_count": 2,
   "id": "576704b4",
   "metadata": {},
   "outputs": [],
   "source": [
    "df = pd.read_csv('./data/실전db.csv')"
   ]
  },
  {
   "cell_type": "markdown",
   "id": "e1821692",
   "metadata": {},
   "source": [
    "• 유저 가입 정보   \n",
    "USER_ID : id  \n",
    "JOIN_DATE : 가입일   \n",
    "\n",
    "• 소비 행동 정보  \n",
    "D_TYPE : ?   \n",
    "STORE_ID : 점포 ID  \n",
    "GOODS_TYPE : 상품ID  \n",
    "DATE : 결제일  \n",
    "COUNT : 결제건수  \n",
    "AD1 : 점포 주소"
   ]
  },
  {
   "cell_type": "code",
   "execution_count": 3,
   "id": "58052d75",
   "metadata": {},
   "outputs": [
    {
     "data": {
      "text/plain": [
       "(879271, 8)"
      ]
     },
     "execution_count": 3,
     "metadata": {},
     "output_type": "execute_result"
    }
   ],
   "source": [
    "df.shape"
   ]
  },
  {
   "cell_type": "code",
   "execution_count": 4,
   "id": "bc0fab05",
   "metadata": {},
   "outputs": [
    {
     "data": {
      "text/html": [
       "<div>\n",
       "<style scoped>\n",
       "    .dataframe tbody tr th:only-of-type {\n",
       "        vertical-align: middle;\n",
       "    }\n",
       "\n",
       "    .dataframe tbody tr th {\n",
       "        vertical-align: top;\n",
       "    }\n",
       "\n",
       "    .dataframe thead th {\n",
       "        text-align: right;\n",
       "    }\n",
       "</style>\n",
       "<table border=\"1\" class=\"dataframe\">\n",
       "  <thead>\n",
       "    <tr style=\"text-align: right;\">\n",
       "      <th></th>\n",
       "      <th>USER_ID</th>\n",
       "      <th>JOIN_DATE</th>\n",
       "      <th>D_TYPE</th>\n",
       "      <th>STORE_ID</th>\n",
       "      <th>GOODS_TYPE</th>\n",
       "      <th>DATE</th>\n",
       "      <th>COUNT</th>\n",
       "      <th>AD1</th>\n",
       "    </tr>\n",
       "  </thead>\n",
       "  <tbody>\n",
       "    <tr>\n",
       "      <th>0</th>\n",
       "      <td>2858</td>\n",
       "      <td>2014-01-07</td>\n",
       "      <td>AA</td>\n",
       "      <td>1892</td>\n",
       "      <td>A</td>\n",
       "      <td>2020-01-01</td>\n",
       "      <td>1</td>\n",
       "      <td>GN</td>\n",
       "    </tr>\n",
       "    <tr>\n",
       "      <th>1</th>\n",
       "      <td>5647</td>\n",
       "      <td>2014-02-14</td>\n",
       "      <td>BB</td>\n",
       "      <td>182009</td>\n",
       "      <td>A</td>\n",
       "      <td>2020-01-01</td>\n",
       "      <td>1</td>\n",
       "      <td>J</td>\n",
       "    </tr>\n",
       "    <tr>\n",
       "      <th>2</th>\n",
       "      <td>33314</td>\n",
       "      <td>2014-11-20</td>\n",
       "      <td>BB</td>\n",
       "      <td>82431</td>\n",
       "      <td>A</td>\n",
       "      <td>2020-01-01</td>\n",
       "      <td>1</td>\n",
       "      <td>SC</td>\n",
       "    </tr>\n",
       "    <tr>\n",
       "      <th>3</th>\n",
       "      <td>37001</td>\n",
       "      <td>2014-12-04</td>\n",
       "      <td>BB</td>\n",
       "      <td>725</td>\n",
       "      <td>C</td>\n",
       "      <td>2020-01-01</td>\n",
       "      <td>1</td>\n",
       "      <td>MP</td>\n",
       "    </tr>\n",
       "    <tr>\n",
       "      <th>4</th>\n",
       "      <td>37819</td>\n",
       "      <td>2014-12-07</td>\n",
       "      <td>AA</td>\n",
       "      <td>220691</td>\n",
       "      <td>C</td>\n",
       "      <td>2020-01-01</td>\n",
       "      <td>1</td>\n",
       "      <td>JRR</td>\n",
       "    </tr>\n",
       "  </tbody>\n",
       "</table>\n",
       "</div>"
      ],
      "text/plain": [
       "   USER_ID   JOIN_DATE D_TYPE  STORE_ID GOODS_TYPE        DATE  COUNT  AD1\n",
       "0     2858  2014-01-07     AA      1892          A  2020-01-01      1   GN\n",
       "1     5647  2014-02-14     BB    182009          A  2020-01-01      1    J\n",
       "2    33314  2014-11-20     BB     82431          A  2020-01-01      1   SC\n",
       "3    37001  2014-12-04     BB       725          C  2020-01-01      1   MP\n",
       "4    37819  2014-12-07     AA    220691          C  2020-01-01      1  JRR"
      ]
     },
     "execution_count": 4,
     "metadata": {},
     "output_type": "execute_result"
    }
   ],
   "source": [
    "df.head()"
   ]
  },
  {
   "cell_type": "code",
   "execution_count": 5,
   "id": "909062cc",
   "metadata": {
    "scrolled": false
   },
   "outputs": [
    {
     "name": "stdout",
     "output_type": "stream",
     "text": [
      "<class 'pandas.core.frame.DataFrame'>\n",
      "RangeIndex: 879271 entries, 0 to 879270\n",
      "Data columns (total 8 columns):\n",
      " #   Column      Non-Null Count   Dtype \n",
      "---  ------      --------------   ----- \n",
      " 0   USER_ID     879271 non-null  int64 \n",
      " 1   JOIN_DATE   879271 non-null  object\n",
      " 2   D_TYPE      879271 non-null  object\n",
      " 3   STORE_ID    879271 non-null  int64 \n",
      " 4   GOODS_TYPE  879271 non-null  object\n",
      " 5   DATE        879271 non-null  object\n",
      " 6   COUNT       879271 non-null  int64 \n",
      " 7   AD1         879271 non-null  object\n",
      "dtypes: int64(3), object(5)\n",
      "memory usage: 53.7+ MB\n"
     ]
    }
   ],
   "source": [
    "df.info()"
   ]
  },
  {
   "cell_type": "markdown",
   "id": "3803aa3d",
   "metadata": {},
   "source": [
    "* 날짜 데이터 형변환 (object > datetime64)"
   ]
  },
  {
   "cell_type": "code",
   "execution_count": 6,
   "id": "b30aeac1",
   "metadata": {},
   "outputs": [],
   "source": [
    "df.JOIN_DATE = pd.to_datetime(df.JOIN_DATE)\n",
    "df.DATE = pd.to_datetime(df.DATE)"
   ]
  },
  {
   "cell_type": "code",
   "execution_count": 7,
   "id": "ad50e4ce",
   "metadata": {},
   "outputs": [
    {
     "data": {
      "text/plain": [
       "USER_ID                int64\n",
       "JOIN_DATE     datetime64[ns]\n",
       "D_TYPE                object\n",
       "STORE_ID               int64\n",
       "GOODS_TYPE            object\n",
       "DATE          datetime64[ns]\n",
       "COUNT                  int64\n",
       "AD1                   object\n",
       "dtype: object"
      ]
     },
     "execution_count": 7,
     "metadata": {},
     "output_type": "execute_result"
    }
   ],
   "source": [
    "df.dtypes"
   ]
  },
  {
   "cell_type": "code",
   "execution_count": 8,
   "id": "7096f112",
   "metadata": {},
   "outputs": [
    {
     "data": {
      "text/html": [
       "<div>\n",
       "<style scoped>\n",
       "    .dataframe tbody tr th:only-of-type {\n",
       "        vertical-align: middle;\n",
       "    }\n",
       "\n",
       "    .dataframe tbody tr th {\n",
       "        vertical-align: top;\n",
       "    }\n",
       "\n",
       "    .dataframe thead th {\n",
       "        text-align: right;\n",
       "    }\n",
       "</style>\n",
       "<table border=\"1\" class=\"dataframe\">\n",
       "  <thead>\n",
       "    <tr style=\"text-align: right;\">\n",
       "      <th></th>\n",
       "      <th>USER_ID</th>\n",
       "      <th>STORE_ID</th>\n",
       "      <th>COUNT</th>\n",
       "    </tr>\n",
       "  </thead>\n",
       "  <tbody>\n",
       "    <tr>\n",
       "      <th>count</th>\n",
       "      <td>8.792710e+05</td>\n",
       "      <td>879271.000000</td>\n",
       "      <td>879271.000000</td>\n",
       "    </tr>\n",
       "    <tr>\n",
       "      <th>mean</th>\n",
       "      <td>1.206566e+06</td>\n",
       "      <td>149599.960642</td>\n",
       "      <td>1.029079</td>\n",
       "    </tr>\n",
       "    <tr>\n",
       "      <th>std</th>\n",
       "      <td>4.206529e+05</td>\n",
       "      <td>68898.035318</td>\n",
       "      <td>0.512428</td>\n",
       "    </tr>\n",
       "    <tr>\n",
       "      <th>min</th>\n",
       "      <td>2.240000e+02</td>\n",
       "      <td>4.000000</td>\n",
       "      <td>1.000000</td>\n",
       "    </tr>\n",
       "    <tr>\n",
       "      <th>25%</th>\n",
       "      <td>9.005760e+05</td>\n",
       "      <td>92437.000000</td>\n",
       "      <td>1.000000</td>\n",
       "    </tr>\n",
       "    <tr>\n",
       "      <th>50%</th>\n",
       "      <td>1.321440e+06</td>\n",
       "      <td>173059.000000</td>\n",
       "      <td>1.000000</td>\n",
       "    </tr>\n",
       "    <tr>\n",
       "      <th>75%</th>\n",
       "      <td>1.542416e+06</td>\n",
       "      <td>220661.000000</td>\n",
       "      <td>1.000000</td>\n",
       "    </tr>\n",
       "    <tr>\n",
       "      <th>max</th>\n",
       "      <td>1.830598e+06</td>\n",
       "      <td>231465.000000</td>\n",
       "      <td>61.000000</td>\n",
       "    </tr>\n",
       "  </tbody>\n",
       "</table>\n",
       "</div>"
      ],
      "text/plain": [
       "            USER_ID       STORE_ID          COUNT\n",
       "count  8.792710e+05  879271.000000  879271.000000\n",
       "mean   1.206566e+06  149599.960642       1.029079\n",
       "std    4.206529e+05   68898.035318       0.512428\n",
       "min    2.240000e+02       4.000000       1.000000\n",
       "25%    9.005760e+05   92437.000000       1.000000\n",
       "50%    1.321440e+06  173059.000000       1.000000\n",
       "75%    1.542416e+06  220661.000000       1.000000\n",
       "max    1.830598e+06  231465.000000      61.000000"
      ]
     },
     "execution_count": 8,
     "metadata": {},
     "output_type": "execute_result"
    }
   ],
   "source": [
    "df.describe()"
   ]
  },
  {
   "cell_type": "markdown",
   "id": "39a689a2",
   "metadata": {},
   "source": [
    "### 각각의 컬럼 살펴보기   \n",
    "### * USER_ID"
   ]
  },
  {
   "cell_type": "markdown",
   "id": "fbc8c2a2",
   "metadata": {},
   "source": [
    "* 중복 제거한 ID는 총 165425개 "
   ]
  },
  {
   "cell_type": "code",
   "execution_count": 9,
   "id": "ad245307",
   "metadata": {},
   "outputs": [
    {
     "data": {
      "text/plain": [
       "165425"
      ]
     },
     "execution_count": 9,
     "metadata": {},
     "output_type": "execute_result"
    }
   ],
   "source": [
    "len(df['USER_ID'].unique())"
   ]
  },
  {
   "cell_type": "markdown",
   "id": "fd09da86",
   "metadata": {},
   "source": [
    "* ID별 데이터 갯수(row count)"
   ]
  },
  {
   "cell_type": "code",
   "execution_count": 10,
   "id": "3815285e",
   "metadata": {},
   "outputs": [
    {
     "data": {
      "text/plain": [
       "999665     366\n",
       "591610     244\n",
       "1355841    235\n",
       "1365069    222\n",
       "1224426    222\n",
       "          ... \n",
       "650196       1\n",
       "1649612      1\n",
       "1643467      1\n",
       "1751998      1\n",
       "1060858      1\n",
       "Name: USER_ID, Length: 165425, dtype: int64"
      ]
     },
     "execution_count": 10,
     "metadata": {},
     "output_type": "execute_result"
    }
   ],
   "source": [
    "df['USER_ID'].value_counts()"
   ]
  },
  {
   "cell_type": "code",
   "execution_count": 11,
   "id": "e7c9f3fc",
   "metadata": {},
   "outputs": [
    {
     "data": {
      "text/html": [
       "<div>\n",
       "<style scoped>\n",
       "    .dataframe tbody tr th:only-of-type {\n",
       "        vertical-align: middle;\n",
       "    }\n",
       "\n",
       "    .dataframe tbody tr th {\n",
       "        vertical-align: top;\n",
       "    }\n",
       "\n",
       "    .dataframe thead th {\n",
       "        text-align: right;\n",
       "    }\n",
       "</style>\n",
       "<table border=\"1\" class=\"dataframe\">\n",
       "  <thead>\n",
       "    <tr style=\"text-align: right;\">\n",
       "      <th></th>\n",
       "      <th>USER_ID</th>\n",
       "    </tr>\n",
       "  </thead>\n",
       "  <tbody>\n",
       "    <tr>\n",
       "      <th>999665</th>\n",
       "      <td>366</td>\n",
       "    </tr>\n",
       "    <tr>\n",
       "      <th>591610</th>\n",
       "      <td>244</td>\n",
       "    </tr>\n",
       "    <tr>\n",
       "      <th>1355841</th>\n",
       "      <td>235</td>\n",
       "    </tr>\n",
       "    <tr>\n",
       "      <th>1365069</th>\n",
       "      <td>222</td>\n",
       "    </tr>\n",
       "    <tr>\n",
       "      <th>1224426</th>\n",
       "      <td>222</td>\n",
       "    </tr>\n",
       "    <tr>\n",
       "      <th>...</th>\n",
       "      <td>...</td>\n",
       "    </tr>\n",
       "    <tr>\n",
       "      <th>650196</th>\n",
       "      <td>1</td>\n",
       "    </tr>\n",
       "    <tr>\n",
       "      <th>1649612</th>\n",
       "      <td>1</td>\n",
       "    </tr>\n",
       "    <tr>\n",
       "      <th>1643467</th>\n",
       "      <td>1</td>\n",
       "    </tr>\n",
       "    <tr>\n",
       "      <th>1751998</th>\n",
       "      <td>1</td>\n",
       "    </tr>\n",
       "    <tr>\n",
       "      <th>1060858</th>\n",
       "      <td>1</td>\n",
       "    </tr>\n",
       "  </tbody>\n",
       "</table>\n",
       "<p>165425 rows × 1 columns</p>\n",
       "</div>"
      ],
      "text/plain": [
       "         USER_ID\n",
       "999665       366\n",
       "591610       244\n",
       "1355841      235\n",
       "1365069      222\n",
       "1224426      222\n",
       "...          ...\n",
       "650196         1\n",
       "1649612        1\n",
       "1643467        1\n",
       "1751998        1\n",
       "1060858        1\n",
       "\n",
       "[165425 rows x 1 columns]"
      ]
     },
     "execution_count": 11,
     "metadata": {},
     "output_type": "execute_result"
    }
   ],
   "source": [
    "df_top20 = pd.DataFrame(df['USER_ID'].value_counts())\n",
    "df_top20"
   ]
  },
  {
   "cell_type": "markdown",
   "id": "8510b3fe",
   "metadata": {},
   "source": [
    "* ID 999665의 경우 366개로 데이터가 가장 많다. "
   ]
  },
  {
   "cell_type": "code",
   "execution_count": 12,
   "id": "6761e38c",
   "metadata": {},
   "outputs": [
    {
     "data": {
      "text/html": [
       "<div>\n",
       "<style scoped>\n",
       "    .dataframe tbody tr th:only-of-type {\n",
       "        vertical-align: middle;\n",
       "    }\n",
       "\n",
       "    .dataframe tbody tr th {\n",
       "        vertical-align: top;\n",
       "    }\n",
       "\n",
       "    .dataframe thead th {\n",
       "        text-align: right;\n",
       "    }\n",
       "</style>\n",
       "<table border=\"1\" class=\"dataframe\">\n",
       "  <thead>\n",
       "    <tr style=\"text-align: right;\">\n",
       "      <th></th>\n",
       "      <th>USER_ID</th>\n",
       "      <th>JOIN_DATE</th>\n",
       "      <th>D_TYPE</th>\n",
       "      <th>STORE_ID</th>\n",
       "      <th>GOODS_TYPE</th>\n",
       "      <th>DATE</th>\n",
       "      <th>COUNT</th>\n",
       "      <th>AD1</th>\n",
       "    </tr>\n",
       "  </thead>\n",
       "  <tbody>\n",
       "    <tr>\n",
       "      <th>372</th>\n",
       "      <td>999665</td>\n",
       "      <td>2018-12-16</td>\n",
       "      <td>CC</td>\n",
       "      <td>82399</td>\n",
       "      <td>A</td>\n",
       "      <td>2020-01-01</td>\n",
       "      <td>6</td>\n",
       "      <td>JRR</td>\n",
       "    </tr>\n",
       "    <tr>\n",
       "      <th>1527</th>\n",
       "      <td>999665</td>\n",
       "      <td>2018-12-16</td>\n",
       "      <td>CC</td>\n",
       "      <td>104988</td>\n",
       "      <td>A</td>\n",
       "      <td>2020-01-02</td>\n",
       "      <td>11</td>\n",
       "      <td>GN</td>\n",
       "    </tr>\n",
       "    <tr>\n",
       "      <th>3121</th>\n",
       "      <td>999665</td>\n",
       "      <td>2018-12-16</td>\n",
       "      <td>CC</td>\n",
       "      <td>181832</td>\n",
       "      <td>A</td>\n",
       "      <td>2020-01-03</td>\n",
       "      <td>7</td>\n",
       "      <td>SC</td>\n",
       "    </tr>\n",
       "    <tr>\n",
       "      <th>5034</th>\n",
       "      <td>999665</td>\n",
       "      <td>2018-12-16</td>\n",
       "      <td>CC</td>\n",
       "      <td>109223</td>\n",
       "      <td>A</td>\n",
       "      <td>2020-01-04</td>\n",
       "      <td>28</td>\n",
       "      <td>MP</td>\n",
       "    </tr>\n",
       "    <tr>\n",
       "      <th>6919</th>\n",
       "      <td>999665</td>\n",
       "      <td>2018-12-16</td>\n",
       "      <td>CC</td>\n",
       "      <td>104916</td>\n",
       "      <td>A</td>\n",
       "      <td>2020-01-05</td>\n",
       "      <td>14</td>\n",
       "      <td>GN</td>\n",
       "    </tr>\n",
       "    <tr>\n",
       "      <th>...</th>\n",
       "      <td>...</td>\n",
       "      <td>...</td>\n",
       "      <td>...</td>\n",
       "      <td>...</td>\n",
       "      <td>...</td>\n",
       "      <td>...</td>\n",
       "      <td>...</td>\n",
       "      <td>...</td>\n",
       "    </tr>\n",
       "    <tr>\n",
       "      <th>867260</th>\n",
       "      <td>999665</td>\n",
       "      <td>2018-12-16</td>\n",
       "      <td>CC</td>\n",
       "      <td>2428</td>\n",
       "      <td>A</td>\n",
       "      <td>2020-12-27</td>\n",
       "      <td>17</td>\n",
       "      <td>CY</td>\n",
       "    </tr>\n",
       "    <tr>\n",
       "      <th>868847</th>\n",
       "      <td>999665</td>\n",
       "      <td>2018-12-16</td>\n",
       "      <td>CC</td>\n",
       "      <td>109267</td>\n",
       "      <td>A</td>\n",
       "      <td>2020-12-28</td>\n",
       "      <td>24</td>\n",
       "      <td>J</td>\n",
       "    </tr>\n",
       "    <tr>\n",
       "      <th>871562</th>\n",
       "      <td>999665</td>\n",
       "      <td>2018-12-16</td>\n",
       "      <td>CC</td>\n",
       "      <td>90193</td>\n",
       "      <td>C</td>\n",
       "      <td>2020-12-29</td>\n",
       "      <td>23</td>\n",
       "      <td>GW</td>\n",
       "    </tr>\n",
       "    <tr>\n",
       "      <th>874317</th>\n",
       "      <td>999665</td>\n",
       "      <td>2018-12-16</td>\n",
       "      <td>CC</td>\n",
       "      <td>220797</td>\n",
       "      <td>D</td>\n",
       "      <td>2020-12-30</td>\n",
       "      <td>40</td>\n",
       "      <td>GS</td>\n",
       "    </tr>\n",
       "    <tr>\n",
       "      <th>877120</th>\n",
       "      <td>999665</td>\n",
       "      <td>2018-12-16</td>\n",
       "      <td>CC</td>\n",
       "      <td>220893</td>\n",
       "      <td>A</td>\n",
       "      <td>2020-12-31</td>\n",
       "      <td>42</td>\n",
       "      <td>J</td>\n",
       "    </tr>\n",
       "  </tbody>\n",
       "</table>\n",
       "<p>366 rows × 8 columns</p>\n",
       "</div>"
      ],
      "text/plain": [
       "        USER_ID  JOIN_DATE D_TYPE  STORE_ID GOODS_TYPE       DATE  COUNT  AD1\n",
       "372      999665 2018-12-16     CC     82399          A 2020-01-01      6  JRR\n",
       "1527     999665 2018-12-16     CC    104988          A 2020-01-02     11   GN\n",
       "3121     999665 2018-12-16     CC    181832          A 2020-01-03      7   SC\n",
       "5034     999665 2018-12-16     CC    109223          A 2020-01-04     28   MP\n",
       "6919     999665 2018-12-16     CC    104916          A 2020-01-05     14   GN\n",
       "...         ...        ...    ...       ...        ...        ...    ...  ...\n",
       "867260   999665 2018-12-16     CC      2428          A 2020-12-27     17   CY\n",
       "868847   999665 2018-12-16     CC    109267          A 2020-12-28     24    J\n",
       "871562   999665 2018-12-16     CC     90193          C 2020-12-29     23   GW\n",
       "874317   999665 2018-12-16     CC    220797          D 2020-12-30     40   GS\n",
       "877120   999665 2018-12-16     CC    220893          A 2020-12-31     42    J\n",
       "\n",
       "[366 rows x 8 columns]"
      ]
     },
     "execution_count": 12,
     "metadata": {},
     "output_type": "execute_result"
    }
   ],
   "source": [
    "df[df['USER_ID'] == 999665]"
   ]
  },
  {
   "cell_type": "markdown",
   "id": "1466803a",
   "metadata": {},
   "source": [
    "ID 999665의 경우 28개 지역에서 모두의 주차장을 사용했다. "
   ]
  },
  {
   "cell_type": "code",
   "execution_count": 13,
   "id": "3ffd845f",
   "metadata": {},
   "outputs": [
    {
     "data": {
      "text/plain": [
       "28"
      ]
     },
     "execution_count": 13,
     "metadata": {},
     "output_type": "execute_result"
    }
   ],
   "source": [
    "len(df[df['USER_ID'] == 999665].AD1.unique())"
   ]
  },
  {
   "cell_type": "markdown",
   "id": "608945b7",
   "metadata": {},
   "source": [
    "ID 999665의 경우 사용한 주차장 갯수는 140개(중복제거)"
   ]
  },
  {
   "cell_type": "code",
   "execution_count": 14,
   "id": "f22990d8",
   "metadata": {},
   "outputs": [
    {
     "data": {
      "text/plain": [
       "140"
      ]
     },
     "execution_count": 14,
     "metadata": {},
     "output_type": "execute_result"
    }
   ],
   "source": [
    "len(df[df['USER_ID'] == 999665].STORE_ID.unique())"
   ]
  },
  {
   "cell_type": "code",
   "execution_count": 15,
   "id": "3c91285a",
   "metadata": {
    "scrolled": true
   },
   "outputs": [
    {
     "data": {
      "text/plain": [
       "999665     366\n",
       "591610     244\n",
       "1355841    235\n",
       "1365069    222\n",
       "1224426    222\n",
       "1407916    222\n",
       "1144500    213\n",
       "1284291    210\n",
       "909315     209\n",
       "1201981    207\n",
       "1504815    207\n",
       "612237     201\n",
       "1303371    199\n",
       "640247     199\n",
       "1532535    198\n",
       "603013     198\n",
       "571472     198\n",
       "812843     197\n",
       "1506306    197\n",
       "1419336    194\n",
       "Name: USER_ID, dtype: int64"
      ]
     },
     "execution_count": 15,
     "metadata": {},
     "output_type": "execute_result"
    }
   ],
   "source": [
    "df['USER_ID'].value_counts().nlargest(20)"
   ]
  },
  {
   "cell_type": "code",
   "execution_count": 16,
   "id": "7bc522ea",
   "metadata": {},
   "outputs": [
    {
     "data": {
      "text/plain": [
       "USER_ID\n",
       "571472     AA\n",
       "591610     AA\n",
       "603013     AA\n",
       "612237     AA\n",
       "640247     BB\n",
       "812843     AA\n",
       "909315     BB\n",
       "999665     CC\n",
       "1144500    AA\n",
       "1201981    BB\n",
       "1224426    BB\n",
       "1284291    AA\n",
       "1303371    AA\n",
       "1355841    AA\n",
       "1365069    AA\n",
       "1407916    AA\n",
       "1419336    BB\n",
       "1504815    AA\n",
       "1506306    AA\n",
       "1532535    BB\n",
       "Name: D_TYPE, dtype: object"
      ]
     },
     "execution_count": 16,
     "metadata": {},
     "output_type": "execute_result"
    }
   ],
   "source": [
    "df[df.USER_ID.isin([999665,591610,1355841,1365069,1224426,1407916,1144500,1284291,909315,\n",
    "1201981,1504815,612237,1303371,640247,1532535,603013,571472,812843,1506306,1419336])].groupby(['USER_ID']).D_TYPE.min()"
   ]
  },
  {
   "cell_type": "code",
   "execution_count": 17,
   "id": "f38de9d3",
   "metadata": {},
   "outputs": [
    {
     "data": {
      "text/html": [
       "<div>\n",
       "<style scoped>\n",
       "    .dataframe tbody tr th:only-of-type {\n",
       "        vertical-align: middle;\n",
       "    }\n",
       "\n",
       "    .dataframe tbody tr th {\n",
       "        vertical-align: top;\n",
       "    }\n",
       "\n",
       "    .dataframe thead th {\n",
       "        text-align: right;\n",
       "    }\n",
       "</style>\n",
       "<table border=\"1\" class=\"dataframe\">\n",
       "  <thead>\n",
       "    <tr style=\"text-align: right;\">\n",
       "      <th></th>\n",
       "      <th>USER_ID</th>\n",
       "      <th>STORE_ID</th>\n",
       "      <th>COUNT</th>\n",
       "    </tr>\n",
       "  </thead>\n",
       "  <tbody>\n",
       "    <tr>\n",
       "      <th>44115</th>\n",
       "      <td>999665</td>\n",
       "      <td>44476875</td>\n",
       "      <td>7919</td>\n",
       "    </tr>\n",
       "    <tr>\n",
       "      <th>100781</th>\n",
       "      <td>1514190</td>\n",
       "      <td>18343755</td>\n",
       "      <td>284</td>\n",
       "    </tr>\n",
       "    <tr>\n",
       "      <th>16448</th>\n",
       "      <td>591610</td>\n",
       "      <td>27630786</td>\n",
       "      <td>245</td>\n",
       "    </tr>\n",
       "    <tr>\n",
       "      <th>90227</th>\n",
       "      <td>1467323</td>\n",
       "      <td>12808488</td>\n",
       "      <td>239</td>\n",
       "    </tr>\n",
       "    <tr>\n",
       "      <th>76230</th>\n",
       "      <td>1355841</td>\n",
       "      <td>25745895</td>\n",
       "      <td>235</td>\n",
       "    </tr>\n",
       "    <tr>\n",
       "      <th>...</th>\n",
       "      <td>...</td>\n",
       "      <td>...</td>\n",
       "      <td>...</td>\n",
       "    </tr>\n",
       "    <tr>\n",
       "      <th>45671</th>\n",
       "      <td>1023974</td>\n",
       "      <td>203627</td>\n",
       "      <td>1</td>\n",
       "    </tr>\n",
       "    <tr>\n",
       "      <th>110166</th>\n",
       "      <td>1551355</td>\n",
       "      <td>204949</td>\n",
       "      <td>1</td>\n",
       "    </tr>\n",
       "    <tr>\n",
       "      <th>45674</th>\n",
       "      <td>1024027</td>\n",
       "      <td>182320</td>\n",
       "      <td>1</td>\n",
       "    </tr>\n",
       "    <tr>\n",
       "      <th>45676</th>\n",
       "      <td>1024047</td>\n",
       "      <td>181833</td>\n",
       "      <td>1</td>\n",
       "    </tr>\n",
       "    <tr>\n",
       "      <th>165424</th>\n",
       "      <td>1830598</td>\n",
       "      <td>220959</td>\n",
       "      <td>1</td>\n",
       "    </tr>\n",
       "  </tbody>\n",
       "</table>\n",
       "<p>165425 rows × 3 columns</p>\n",
       "</div>"
      ],
      "text/plain": [
       "        USER_ID  STORE_ID  COUNT\n",
       "44115    999665  44476875   7919\n",
       "100781  1514190  18343755    284\n",
       "16448    591610  27630786    245\n",
       "90227   1467323  12808488    239\n",
       "76230   1355841  25745895    235\n",
       "...         ...       ...    ...\n",
       "45671   1023974    203627      1\n",
       "110166  1551355    204949      1\n",
       "45674   1024027    182320      1\n",
       "45676   1024047    181833      1\n",
       "165424  1830598    220959      1\n",
       "\n",
       "[165425 rows x 3 columns]"
      ]
     },
     "execution_count": 17,
     "metadata": {},
     "output_type": "execute_result"
    }
   ],
   "source": [
    "df.groupby('USER_ID').sum().reset_index().sort_values('COUNT', ascending = False)"
   ]
  },
  {
   "cell_type": "code",
   "execution_count": 18,
   "id": "982c0139",
   "metadata": {},
   "outputs": [
    {
     "data": {
      "text/html": [
       "<div>\n",
       "<style scoped>\n",
       "    .dataframe tbody tr th:only-of-type {\n",
       "        vertical-align: middle;\n",
       "    }\n",
       "\n",
       "    .dataframe tbody tr th {\n",
       "        vertical-align: top;\n",
       "    }\n",
       "\n",
       "    .dataframe thead th {\n",
       "        text-align: right;\n",
       "    }\n",
       "</style>\n",
       "<table border=\"1\" class=\"dataframe\">\n",
       "  <thead>\n",
       "    <tr style=\"text-align: right;\">\n",
       "      <th></th>\n",
       "      <th>USER_ID</th>\n",
       "      <th>COUNT</th>\n",
       "    </tr>\n",
       "  </thead>\n",
       "  <tbody>\n",
       "    <tr>\n",
       "      <th>44115</th>\n",
       "      <td>999665</td>\n",
       "      <td>7919</td>\n",
       "    </tr>\n",
       "    <tr>\n",
       "      <th>100781</th>\n",
       "      <td>1514190</td>\n",
       "      <td>284</td>\n",
       "    </tr>\n",
       "    <tr>\n",
       "      <th>16448</th>\n",
       "      <td>591610</td>\n",
       "      <td>245</td>\n",
       "    </tr>\n",
       "    <tr>\n",
       "      <th>90227</th>\n",
       "      <td>1467323</td>\n",
       "      <td>239</td>\n",
       "    </tr>\n",
       "    <tr>\n",
       "      <th>76230</th>\n",
       "      <td>1355841</td>\n",
       "      <td>235</td>\n",
       "    </tr>\n",
       "    <tr>\n",
       "      <th>...</th>\n",
       "      <td>...</td>\n",
       "      <td>...</td>\n",
       "    </tr>\n",
       "    <tr>\n",
       "      <th>45671</th>\n",
       "      <td>1023974</td>\n",
       "      <td>1</td>\n",
       "    </tr>\n",
       "    <tr>\n",
       "      <th>110166</th>\n",
       "      <td>1551355</td>\n",
       "      <td>1</td>\n",
       "    </tr>\n",
       "    <tr>\n",
       "      <th>45674</th>\n",
       "      <td>1024027</td>\n",
       "      <td>1</td>\n",
       "    </tr>\n",
       "    <tr>\n",
       "      <th>45676</th>\n",
       "      <td>1024047</td>\n",
       "      <td>1</td>\n",
       "    </tr>\n",
       "    <tr>\n",
       "      <th>165424</th>\n",
       "      <td>1830598</td>\n",
       "      <td>1</td>\n",
       "    </tr>\n",
       "  </tbody>\n",
       "</table>\n",
       "<p>165425 rows × 2 columns</p>\n",
       "</div>"
      ],
      "text/plain": [
       "        USER_ID  COUNT\n",
       "44115    999665   7919\n",
       "100781  1514190    284\n",
       "16448    591610    245\n",
       "90227   1467323    239\n",
       "76230   1355841    235\n",
       "...         ...    ...\n",
       "45671   1023974      1\n",
       "110166  1551355      1\n",
       "45674   1024027      1\n",
       "45676   1024047      1\n",
       "165424  1830598      1\n",
       "\n",
       "[165425 rows x 2 columns]"
      ]
     },
     "execution_count": 18,
     "metadata": {},
     "output_type": "execute_result"
    }
   ],
   "source": [
    "df.groupby('USER_ID')['COUNT'].sum().reset_index().sort_values('COUNT', ascending = False)"
   ]
  },
  {
   "cell_type": "markdown",
   "id": "ac30d0de",
   "metadata": {},
   "source": [
    "### * JOIN_DATE"
   ]
  },
  {
   "cell_type": "markdown",
   "id": "e2531b1d",
   "metadata": {},
   "source": [
    "* 1970-01-01 데이터 존재 "
   ]
  },
  {
   "cell_type": "code",
   "execution_count": 19,
   "id": "aab76837",
   "metadata": {},
   "outputs": [
    {
     "data": {
      "text/plain": [
       "176320   1970-01-01\n",
       "625539   1970-01-01\n",
       "226658   1970-01-01\n",
       "226415   1970-01-01\n",
       "226042   1970-01-01\n",
       "            ...    \n",
       "879214   2020-12-31\n",
       "879213   2020-12-31\n",
       "879212   2020-12-31\n",
       "879230   2020-12-31\n",
       "879270   2020-12-31\n",
       "Name: JOIN_DATE, Length: 879271, dtype: datetime64[ns]"
      ]
     },
     "execution_count": 19,
     "metadata": {},
     "output_type": "execute_result"
    }
   ],
   "source": [
    "df.JOIN_DATE.sort_values()"
   ]
  },
  {
   "cell_type": "code",
   "execution_count": 20,
   "id": "1a074823",
   "metadata": {},
   "outputs": [
    {
     "name": "stdout",
     "output_type": "stream",
     "text": [
      "[numpy.datetime64('1970-01-01T00:00:00.000000000'), numpy.datetime64('2013-12-16T00:00:00.000000000'), numpy.datetime64('2013-12-17T00:00:00.000000000'), numpy.datetime64('2013-12-18T00:00:00.000000000'), numpy.datetime64('2013-12-21T00:00:00.000000000')]\n"
     ]
    }
   ],
   "source": [
    "print(sorted(df.JOIN_DATE.unique())[:5])"
   ]
  },
  {
   "cell_type": "code",
   "execution_count": 21,
   "id": "dfcacc5e",
   "metadata": {},
   "outputs": [
    {
     "data": {
      "text/html": [
       "<div>\n",
       "<style scoped>\n",
       "    .dataframe tbody tr th:only-of-type {\n",
       "        vertical-align: middle;\n",
       "    }\n",
       "\n",
       "    .dataframe tbody tr th {\n",
       "        vertical-align: top;\n",
       "    }\n",
       "\n",
       "    .dataframe thead th {\n",
       "        text-align: right;\n",
       "    }\n",
       "</style>\n",
       "<table border=\"1\" class=\"dataframe\">\n",
       "  <thead>\n",
       "    <tr style=\"text-align: right;\">\n",
       "      <th></th>\n",
       "      <th>USER_ID</th>\n",
       "      <th>JOIN_DATE</th>\n",
       "      <th>D_TYPE</th>\n",
       "      <th>STORE_ID</th>\n",
       "      <th>GOODS_TYPE</th>\n",
       "      <th>DATE</th>\n",
       "      <th>COUNT</th>\n",
       "      <th>AD1</th>\n",
       "    </tr>\n",
       "  </thead>\n",
       "  <tbody>\n",
       "    <tr>\n",
       "      <th>437</th>\n",
       "      <td>1081430</td>\n",
       "      <td>1970-01-01</td>\n",
       "      <td>CC</td>\n",
       "      <td>90070</td>\n",
       "      <td>A</td>\n",
       "      <td>2020-01-01</td>\n",
       "      <td>1</td>\n",
       "      <td>GD</td>\n",
       "    </tr>\n",
       "    <tr>\n",
       "      <th>2196</th>\n",
       "      <td>1410151</td>\n",
       "      <td>1970-01-01</td>\n",
       "      <td>CC</td>\n",
       "      <td>92437</td>\n",
       "      <td>B</td>\n",
       "      <td>2020-01-02</td>\n",
       "      <td>1</td>\n",
       "      <td>J</td>\n",
       "    </tr>\n",
       "    <tr>\n",
       "      <th>2204</th>\n",
       "      <td>1415023</td>\n",
       "      <td>1970-01-01</td>\n",
       "      <td>CC</td>\n",
       "      <td>131081</td>\n",
       "      <td>A</td>\n",
       "      <td>2020-01-02</td>\n",
       "      <td>1</td>\n",
       "      <td>YO</td>\n",
       "    </tr>\n",
       "    <tr>\n",
       "      <th>2434</th>\n",
       "      <td>125582</td>\n",
       "      <td>1970-01-01</td>\n",
       "      <td>CC</td>\n",
       "      <td>91885</td>\n",
       "      <td>A</td>\n",
       "      <td>2020-01-03</td>\n",
       "      <td>1</td>\n",
       "      <td>YD</td>\n",
       "    </tr>\n",
       "    <tr>\n",
       "      <th>2645</th>\n",
       "      <td>602188</td>\n",
       "      <td>1970-01-01</td>\n",
       "      <td>CC</td>\n",
       "      <td>2334</td>\n",
       "      <td>B</td>\n",
       "      <td>2020-01-03</td>\n",
       "      <td>1</td>\n",
       "      <td>MP</td>\n",
       "    </tr>\n",
       "    <tr>\n",
       "      <th>...</th>\n",
       "      <td>...</td>\n",
       "      <td>...</td>\n",
       "      <td>...</td>\n",
       "      <td>...</td>\n",
       "      <td>...</td>\n",
       "      <td>...</td>\n",
       "      <td>...</td>\n",
       "      <td>...</td>\n",
       "    </tr>\n",
       "    <tr>\n",
       "      <th>866536</th>\n",
       "      <td>1723400</td>\n",
       "      <td>1970-01-01</td>\n",
       "      <td>CC</td>\n",
       "      <td>190188</td>\n",
       "      <td>A</td>\n",
       "      <td>2020-12-26</td>\n",
       "      <td>1</td>\n",
       "      <td>JR</td>\n",
       "    </tr>\n",
       "    <tr>\n",
       "      <th>867913</th>\n",
       "      <td>1723400</td>\n",
       "      <td>1970-01-01</td>\n",
       "      <td>CC</td>\n",
       "      <td>190188</td>\n",
       "      <td>A</td>\n",
       "      <td>2020-12-27</td>\n",
       "      <td>1</td>\n",
       "      <td>JR</td>\n",
       "    </tr>\n",
       "    <tr>\n",
       "      <th>868210</th>\n",
       "      <td>1825656</td>\n",
       "      <td>1970-01-01</td>\n",
       "      <td>CC</td>\n",
       "      <td>219936</td>\n",
       "      <td>A</td>\n",
       "      <td>2020-12-27</td>\n",
       "      <td>1</td>\n",
       "      <td>YD</td>\n",
       "    </tr>\n",
       "    <tr>\n",
       "      <th>873707</th>\n",
       "      <td>1828010</td>\n",
       "      <td>1970-01-01</td>\n",
       "      <td>CC</td>\n",
       "      <td>220635</td>\n",
       "      <td>C</td>\n",
       "      <td>2020-12-29</td>\n",
       "      <td>1</td>\n",
       "      <td>GN</td>\n",
       "    </tr>\n",
       "    <tr>\n",
       "      <th>879171</th>\n",
       "      <td>1829458</td>\n",
       "      <td>1970-01-01</td>\n",
       "      <td>CC</td>\n",
       "      <td>137452</td>\n",
       "      <td>A</td>\n",
       "      <td>2020-12-31</td>\n",
       "      <td>1</td>\n",
       "      <td>CY</td>\n",
       "    </tr>\n",
       "  </tbody>\n",
       "</table>\n",
       "<p>1093 rows × 8 columns</p>\n",
       "</div>"
      ],
      "text/plain": [
       "        USER_ID  JOIN_DATE D_TYPE  STORE_ID GOODS_TYPE       DATE  COUNT AD1\n",
       "437     1081430 1970-01-01     CC     90070          A 2020-01-01      1  GD\n",
       "2196    1410151 1970-01-01     CC     92437          B 2020-01-02      1   J\n",
       "2204    1415023 1970-01-01     CC    131081          A 2020-01-02      1  YO\n",
       "2434     125582 1970-01-01     CC     91885          A 2020-01-03      1  YD\n",
       "2645     602188 1970-01-01     CC      2334          B 2020-01-03      1  MP\n",
       "...         ...        ...    ...       ...        ...        ...    ...  ..\n",
       "866536  1723400 1970-01-01     CC    190188          A 2020-12-26      1  JR\n",
       "867913  1723400 1970-01-01     CC    190188          A 2020-12-27      1  JR\n",
       "868210  1825656 1970-01-01     CC    219936          A 2020-12-27      1  YD\n",
       "873707  1828010 1970-01-01     CC    220635          C 2020-12-29      1  GN\n",
       "879171  1829458 1970-01-01     CC    137452          A 2020-12-31      1  CY\n",
       "\n",
       "[1093 rows x 8 columns]"
      ]
     },
     "execution_count": 21,
     "metadata": {},
     "output_type": "execute_result"
    }
   ],
   "source": [
    "df[df['JOIN_DATE'] == '1970-01-01']"
   ]
  },
  {
   "cell_type": "markdown",
   "id": "1c893464",
   "metadata": {},
   "source": [
    "* JOIN_DATE가 1970년인 ID는 264개"
   ]
  },
  {
   "cell_type": "code",
   "execution_count": 22,
   "id": "46ddb13e",
   "metadata": {},
   "outputs": [
    {
     "data": {
      "text/plain": [
       "264"
      ]
     },
     "execution_count": 22,
     "metadata": {},
     "output_type": "execute_result"
    }
   ],
   "source": [
    "len(df[df['JOIN_DATE'] == '1970-01-01'].USER_ID.unique())"
   ]
  },
  {
   "cell_type": "code",
   "execution_count": 23,
   "id": "33fa17f3",
   "metadata": {},
   "outputs": [
    {
     "data": {
      "text/plain": [
       "654237     67\n",
       "1355917    52\n",
       "1477219    50\n",
       "1251357    41\n",
       "1163314    39\n",
       "           ..\n",
       "1774416     1\n",
       "1825656     1\n",
       "1602768     1\n",
       "1744769     1\n",
       "1552374     1\n",
       "Name: USER_ID, Length: 264, dtype: int64"
      ]
     },
     "execution_count": 23,
     "metadata": {},
     "output_type": "execute_result"
    }
   ],
   "source": [
    "df[df['JOIN_DATE'] == '1970-01-01'].USER_ID.value_counts()"
   ]
  },
  {
   "cell_type": "code",
   "execution_count": 24,
   "id": "fb627cbb",
   "metadata": {},
   "outputs": [
    {
     "data": {
      "text/plain": [
       "<AxesSubplot:xlabel='JOIN_DATE', ylabel='USER_ID'>"
      ]
     },
     "execution_count": 24,
     "metadata": {},
     "output_type": "execute_result"
    },
    {
     "data": {
      "image/png": "[encoded data removed]",
      "text/plain": [
       "<Figure size 432x288 with 1 Axes>"
      ]
     },
     "metadata": {
      "needs_background": "light"
     },
     "output_type": "display_data"
    }
   ],
   "source": [
    "sns.scatterplot(data=df, x='JOIN_DATE', y = 'USER_ID')"
   ]
  },
  {
   "cell_type": "markdown",
   "id": "0aff19ec",
   "metadata": {},
   "source": [
    "### * D_TYPE "
   ]
  },
  {
   "cell_type": "markdown",
   "id": "9772540a",
   "metadata": {},
   "source": [
    "* D_TYPE은 ID별 동일하여 USER별 바뀌지 않는 값. 가입 유저들을 구분하는 값으로 추정하였다. "
   ]
  },
  {
   "cell_type": "markdown",
   "id": "88cb6562",
   "metadata": {},
   "source": [
    "회사는 왜 D_TYPE을 나눴을까. D_TYPE별로 달라지는 특징은 무엇이 있을까. "
   ]
  },
  {
   "cell_type": "code",
   "execution_count": 26,
   "id": "a758051a",
   "metadata": {
    "scrolled": true
   },
   "outputs": [
    {
     "data": {
      "text/plain": [
       "array(['AA', 'BB', 'CC'], dtype=object)"
      ]
     },
     "execution_count": 26,
     "metadata": {},
     "output_type": "execute_result"
    }
   ],
   "source": [
    "df.D_TYPE.unique()"
   ]
  },
  {
   "cell_type": "code",
   "execution_count": 27,
   "id": "da14381b",
   "metadata": {},
   "outputs": [
    {
     "data": {
      "text/plain": [
       "USER_ID  D_TYPE\n",
       "224      AA         2\n",
       "232      BB        23\n",
       "342      AA         1\n",
       "565      AA         2\n",
       "729      AA         1\n",
       "                   ..\n",
       "1830551  BB         1\n",
       "1830570  BB         1\n",
       "1830580  AA         1\n",
       "1830589  BB         1\n",
       "1830598  AA         1\n",
       "Name: D_TYPE, Length: 165425, dtype: int64"
      ]
     },
     "execution_count": 27,
     "metadata": {},
     "output_type": "execute_result"
    }
   ],
   "source": [
    "df.groupby('USER_ID').D_TYPE.value_counts()"
   ]
  },
  {
   "cell_type": "code",
   "execution_count": 29,
   "id": "39b0cdc3",
   "metadata": {},
   "outputs": [
    {
     "data": {
      "image/png": "[encoded data removed]",
      "text/plain": [
       "<Figure size 432x288 with 1 Axes>"
      ]
     },
     "metadata": {
      "needs_background": "light"
     },
     "output_type": "display_data"
    }
   ],
   "source": [
    "X = df[\"D_TYPE\"] \n",
    "y = df[\"COUNT\"] \n",
    "sns.scatterplot(x = X, y = y)\n",
    "plt.show()"
   ]
  },
  {
   "cell_type": "markdown",
   "id": "8a8a60e5",
   "metadata": {},
   "source": [
    "### * STORE_ID"
   ]
  },
  {
   "cell_type": "markdown",
   "id": "4257d049",
   "metadata": {},
   "source": [
    "* 중복 제거한 ID는 총 1061개 "
   ]
  },
  {
   "cell_type": "code",
   "execution_count": 30,
   "id": "b6c6b562",
   "metadata": {},
   "outputs": [
    {
     "data": {
      "text/plain": [
       "1061"
      ]
     },
     "execution_count": 30,
     "metadata": {},
     "output_type": "execute_result"
    }
   ],
   "source": [
    "len(df['STORE_ID'].unique())"
   ]
  },
  {
   "cell_type": "markdown",
   "id": "f88c184e",
   "metadata": {},
   "source": [
    "* STORE ID별 데이터 갯수(row count)"
   ]
  },
  {
   "cell_type": "code",
   "execution_count": 31,
   "id": "242bc460",
   "metadata": {},
   "outputs": [
    {
     "data": {
      "text/plain": [
       "220557    17617\n",
       "220893    17220\n",
       "220655    16275\n",
       "220848    15935\n",
       "92437     15866\n",
       "          ...  \n",
       "181991        1\n",
       "225653        1\n",
       "67813         1\n",
       "230216        1\n",
       "230214        1\n",
       "Name: STORE_ID, Length: 1061, dtype: int64"
      ]
     },
     "execution_count": 31,
     "metadata": {},
     "output_type": "execute_result"
    }
   ],
   "source": [
    "df['STORE_ID'].value_counts()"
   ]
  },
  {
   "cell_type": "markdown",
   "id": "7f1734cd",
   "metadata": {},
   "source": [
    "### * GOODS_TYPE"
   ]
  },
  {
   "cell_type": "code",
   "execution_count": 32,
   "id": "b50fb5e1",
   "metadata": {
    "scrolled": true
   },
   "outputs": [
    {
     "data": {
      "text/plain": [
       "array(['A', 'C', 'B', 'D'], dtype=object)"
      ]
     },
     "execution_count": 32,
     "metadata": {},
     "output_type": "execute_result"
    }
   ],
   "source": [
    "df.GOODS_TYPE.unique()"
   ]
  },
  {
   "cell_type": "markdown",
   "id": "5b266d7c",
   "metadata": {},
   "source": [
    "* 가장 많이 이용된 상품 타입은 A > B > C > D 순서이다. "
   ]
  },
  {
   "cell_type": "code",
   "execution_count": 33,
   "id": "0fc3e80e",
   "metadata": {},
   "outputs": [
    {
     "data": {
      "text/plain": [
       "A    609790\n",
       "C    131163\n",
       "B    118541\n",
       "D     19777\n",
       "Name: GOODS_TYPE, dtype: int64"
      ]
     },
     "execution_count": 33,
     "metadata": {},
     "output_type": "execute_result"
    }
   ],
   "source": [
    "df.GOODS_TYPE.value_counts()"
   ]
  },
  {
   "cell_type": "markdown",
   "id": "9bf1e7fe",
   "metadata": {},
   "source": [
    "* ID별 많이 이용하는 상품 타입"
   ]
  },
  {
   "cell_type": "code",
   "execution_count": 34,
   "id": "c456452a",
   "metadata": {
    "scrolled": true
   },
   "outputs": [
    {
     "data": {
      "text/plain": [
       "A    296\n",
       "C     55\n",
       "D     15\n",
       "Name: GOODS_TYPE, dtype: int64"
      ]
     },
     "execution_count": 34,
     "metadata": {},
     "output_type": "execute_result"
    }
   ],
   "source": [
    "df[df['USER_ID']==999665].GOODS_TYPE.value_counts()"
   ]
  },
  {
   "cell_type": "code",
   "execution_count": 35,
   "id": "e8a57b43",
   "metadata": {},
   "outputs": [
    {
     "data": {
      "text/plain": [
       "A    61\n",
       "B    29\n",
       "C     3\n",
       "Name: GOODS_TYPE, dtype: int64"
      ]
     },
     "execution_count": 35,
     "metadata": {},
     "output_type": "execute_result"
    }
   ],
   "source": [
    "df[df['USER_ID']==1514190].GOODS_TYPE.value_counts()"
   ]
  },
  {
   "cell_type": "markdown",
   "id": "49e465e1",
   "metadata": {},
   "source": [
    "* 1번만 서비스를 이용한 사람들이 사용한 상품 타입.  \n",
    "A > B > C > D 순서이다 "
   ]
  },
  {
   "cell_type": "code",
   "execution_count": 36,
   "id": "6f1253a4",
   "metadata": {},
   "outputs": [
    {
     "data": {
      "text/plain": [
       "A    40387\n",
       "C    17427\n",
       "B    14275\n",
       "D     2800\n",
       "Name: GOODS_TYPE, dtype: int64"
      ]
     },
     "execution_count": 36,
     "metadata": {},
     "output_type": "execute_result"
    }
   ],
   "source": [
    "df[df.groupby('USER_ID')['USER_ID'].transform('size') == 1].GOODS_TYPE.value_counts()"
   ]
  },
  {
   "cell_type": "markdown",
   "id": "589152d4",
   "metadata": {},
   "source": [
    "### * DATE"
   ]
  },
  {
   "cell_type": "markdown",
   "id": "5b186785",
   "metadata": {},
   "source": [
    "* 2020-01-01 ~ 2020-12-31 1년간 사용 데이터만 존재한다"
   ]
  },
  {
   "cell_type": "code",
   "execution_count": 37,
   "id": "1f5f4cd2",
   "metadata": {},
   "outputs": [
    {
     "data": {
      "text/plain": [
       "0        2020-01-01\n",
       "609      2020-01-01\n",
       "610      2020-01-01\n",
       "611      2020-01-01\n",
       "612      2020-01-01\n",
       "            ...    \n",
       "877462   2020-12-31\n",
       "877463   2020-12-31\n",
       "877464   2020-12-31\n",
       "877456   2020-12-31\n",
       "879270   2020-12-31\n",
       "Name: DATE, Length: 879271, dtype: datetime64[ns]"
      ]
     },
     "execution_count": 37,
     "metadata": {},
     "output_type": "execute_result"
    }
   ],
   "source": [
    "df.DATE.sort_values()"
   ]
  },
  {
   "cell_type": "code",
   "execution_count": 38,
   "id": "0e5059b4",
   "metadata": {},
   "outputs": [
    {
     "name": "stderr",
     "output_type": "stream",
     "text": [
      "<ipython-input-38-c541ea2d9f4b>:3: FutureWarning: Series.dt.weekofyear and Series.dt.week have been deprecated.  Please use Series.dt.isocalendar().week instead.\n",
      "  df['WEEK']=df['DATE'].dt.week\n"
     ]
    }
   ],
   "source": [
    "df['MONTH']=df['DATE'].dt.month\n",
    "df['DAY']=df['DATE'].dt.dayofweek\n",
    "df['WEEK']=df['DATE'].dt.week"
   ]
  },
  {
   "cell_type": "code",
   "execution_count": 40,
   "id": "2d7477b5",
   "metadata": {},
   "outputs": [],
   "source": [
    "# df['DATE'].dt.weekday()"
   ]
  },
  {
   "cell_type": "markdown",
   "id": "479bf8db",
   "metadata": {},
   "source": [
    "* 평일/주말 비교"
   ]
  },
  {
   "cell_type": "markdown",
   "id": "c2e9f943",
   "metadata": {},
   "source": [
    "### * COUNT "
   ]
  },
  {
   "cell_type": "markdown",
   "id": "76861000",
   "metadata": {},
   "source": [
    "COUNT 는 1 ~ 61 번까지 있음"
   ]
  },
  {
   "cell_type": "code",
   "execution_count": 41,
   "id": "7b51bb87",
   "metadata": {},
   "outputs": [
    {
     "data": {
      "text/plain": [
       "1     863775\n",
       "2      13519\n",
       "3       1061\n",
       "4        271\n",
       "5        136\n",
       "6         66\n",
       "7         45\n",
       "9         25\n",
       "12        21\n",
       "16        21\n",
       "8         20\n",
       "13        19\n",
       "14        19\n",
       "15        19\n",
       "28        17\n",
       "10        16\n",
       "11        15\n",
       "17        15\n",
       "23        15\n",
       "25        14\n",
       "21        14\n",
       "18        14\n",
       "19        13\n",
       "22         9\n",
       "26         9\n",
       "32         9\n",
       "34         7\n",
       "24         7\n",
       "27         7\n",
       "30         7\n",
       "31         7\n",
       "29         6\n",
       "20         6\n",
       "36         5\n",
       "40         4\n",
       "35         3\n",
       "37         3\n",
       "38         3\n",
       "39         3\n",
       "49         3\n",
       "46         3\n",
       "33         2\n",
       "47         2\n",
       "42         2\n",
       "43         2\n",
       "50         2\n",
       "58         1\n",
       "53         1\n",
       "55         1\n",
       "59         1\n",
       "45         1\n",
       "51         1\n",
       "48         1\n",
       "44         1\n",
       "41         1\n",
       "61         1\n",
       "Name: COUNT, dtype: int64"
      ]
     },
     "execution_count": 41,
     "metadata": {},
     "output_type": "execute_result"
    }
   ],
   "source": [
    "df.COUNT.value_counts(ascending=False)\n",
    "\n",
    "# df.COUNT.value_counts().sort_values(ascending=True)"
   ]
  },
  {
   "cell_type": "markdown",
   "id": "9ab04314",
   "metadata": {},
   "source": [
    "* COUNT의 갯수가 20번 이상인 경우는 대부분 ID 999665 이다. "
   ]
  },
  {
   "cell_type": "code",
   "execution_count": 42,
   "id": "9d057cb1",
   "metadata": {},
   "outputs": [
    {
     "data": {
      "text/plain": [
       "999665     172\n",
       "1467323      2\n",
       "1635143      1\n",
       "Name: USER_ID, dtype: int64"
      ]
     },
     "execution_count": 42,
     "metadata": {},
     "output_type": "execute_result"
    }
   ],
   "source": [
    "df[df['COUNT']> 20].USER_ID.value_counts()"
   ]
  },
  {
   "cell_type": "code",
   "execution_count": 43,
   "id": "e15f5e83",
   "metadata": {},
   "outputs": [
    {
     "data": {
      "text/html": [
       "<div>\n",
       "<style scoped>\n",
       "    .dataframe tbody tr th:only-of-type {\n",
       "        vertical-align: middle;\n",
       "    }\n",
       "\n",
       "    .dataframe tbody tr th {\n",
       "        vertical-align: top;\n",
       "    }\n",
       "\n",
       "    .dataframe thead th {\n",
       "        text-align: right;\n",
       "    }\n",
       "</style>\n",
       "<table border=\"1\" class=\"dataframe\">\n",
       "  <thead>\n",
       "    <tr style=\"text-align: right;\">\n",
       "      <th></th>\n",
       "      <th>USER_ID</th>\n",
       "      <th>JOIN_DATE</th>\n",
       "      <th>D_TYPE</th>\n",
       "      <th>STORE_ID</th>\n",
       "      <th>GOODS_TYPE</th>\n",
       "      <th>DATE</th>\n",
       "      <th>COUNT</th>\n",
       "      <th>AD1</th>\n",
       "      <th>MONTH</th>\n",
       "      <th>DAY</th>\n",
       "      <th>WEEK</th>\n",
       "    </tr>\n",
       "  </thead>\n",
       "  <tbody>\n",
       "    <tr>\n",
       "      <th>372116</th>\n",
       "      <td>1467323</td>\n",
       "      <td>2020-01-11</td>\n",
       "      <td>AA</td>\n",
       "      <td>220836</td>\n",
       "      <td>A</td>\n",
       "      <td>2020-06-27</td>\n",
       "      <td>22</td>\n",
       "      <td>JRR</td>\n",
       "      <td>6</td>\n",
       "      <td>5</td>\n",
       "      <td>26</td>\n",
       "    </tr>\n",
       "    <tr>\n",
       "      <th>419592</th>\n",
       "      <td>1467323</td>\n",
       "      <td>2020-01-11</td>\n",
       "      <td>AA</td>\n",
       "      <td>220836</td>\n",
       "      <td>B</td>\n",
       "      <td>2020-07-15</td>\n",
       "      <td>23</td>\n",
       "      <td>JRR</td>\n",
       "      <td>7</td>\n",
       "      <td>2</td>\n",
       "      <td>29</td>\n",
       "    </tr>\n",
       "    <tr>\n",
       "      <th>476895</th>\n",
       "      <td>1635143</td>\n",
       "      <td>2020-07-24</td>\n",
       "      <td>AA</td>\n",
       "      <td>221045</td>\n",
       "      <td>A</td>\n",
       "      <td>2020-08-04</td>\n",
       "      <td>23</td>\n",
       "      <td>GN</td>\n",
       "      <td>8</td>\n",
       "      <td>1</td>\n",
       "      <td>32</td>\n",
       "    </tr>\n",
       "  </tbody>\n",
       "</table>\n",
       "</div>"
      ],
      "text/plain": [
       "        USER_ID  JOIN_DATE D_TYPE  STORE_ID GOODS_TYPE       DATE  COUNT  AD1  \\\n",
       "372116  1467323 2020-01-11     AA    220836          A 2020-06-27     22  JRR   \n",
       "419592  1467323 2020-01-11     AA    220836          B 2020-07-15     23  JRR   \n",
       "476895  1635143 2020-07-24     AA    221045          A 2020-08-04     23   GN   \n",
       "\n",
       "        MONTH  DAY  WEEK  \n",
       "372116      6    5    26  \n",
       "419592      7    2    29  \n",
       "476895      8    1    32  "
      ]
     },
     "execution_count": 43,
     "metadata": {},
     "output_type": "execute_result"
    }
   ],
   "source": [
    "df[(df['COUNT'] > 20) & ((df['USER_ID']== 1467323) | (df['USER_ID']== 1635143)) ]"
   ]
  },
  {
   "cell_type": "markdown",
   "id": "652a737d",
   "metadata": {},
   "source": [
    "### * AD1 "
   ]
  },
  {
   "cell_type": "code",
   "execution_count": 44,
   "id": "87e1ae62",
   "metadata": {
    "scrolled": true
   },
   "outputs": [
    {
     "data": {
      "text/plain": [
       "array(['GN', 'J', 'SC', 'MP', 'JRR', 'YD', 'GJ', 'YO', 'GSN', 'GBC', 'BF',\n",
       "       'DJ', '0', 'CD', 'NO', 'CY', 'YC', 'SD', 'GD', 'GSW', 'DM', 'R',\n",
       "       'GB', 'GS', 'GHN', 'SB', 'IND', 'P', 'GW', 'JR', 'GEJ', 'GGY',\n",
       "       'GKP', 'CAS', 'SG', 'BJG', 'BHW', 'GAY', 'GYI', 'CCA', 'PJP',\n",
       "       'GGC', 'IYS', 'DB', 'GGM', 'GAS', 'WOID', 'DIV', 'AOI', 'COI',\n",
       "       'GPJ', 'SOI', 'ABP', 'DOI', 'WF', 'BI', 'ZP', 'EP', 'Q', 'BO',\n",
       "       'ZE', 'RRR', 'QGI', 'DSO', 'SOD', 'BOI', 'WT', 'BP', 'SP', 'CN',\n",
       "       'SJV', 'SDU', 'QH', 'BUD', 'CU', 'VU', 'WAE', 'NW', 'DY', 'WH',\n",
       "       'GR', 'X', 'CVB', 'ADS', 'VO'], dtype=object)"
      ]
     },
     "execution_count": 44,
     "metadata": {},
     "output_type": "execute_result"
    }
   ],
   "source": [
    "df.AD1.unique()"
   ]
  },
  {
   "cell_type": "code",
   "execution_count": 45,
   "id": "dddceec8",
   "metadata": {},
   "outputs": [
    {
     "data": {
      "text/plain": [
       "85"
      ]
     },
     "execution_count": 45,
     "metadata": {},
     "output_type": "execute_result"
    }
   ],
   "source": [
    "len(df['AD1'].unique())"
   ]
  },
  {
   "cell_type": "markdown",
   "id": "2ea5fb54",
   "metadata": {},
   "source": [
    "* 지역명을 따온 것으로 유추됨.   \n",
    "예. YO(여의도)"
   ]
  },
  {
   "cell_type": "code",
   "execution_count": 46,
   "id": "b76f5119",
   "metadata": {},
   "outputs": [
    {
     "data": {
      "image/png": "[encoded data removed]",
      "text/plain": [
       "<Figure size 432x288 with 1 Axes>"
      ]
     },
     "metadata": {
      "needs_background": "light"
     },
     "output_type": "display_data"
    }
   ],
   "source": [
    "sns.barplot(x=X, y=y)\n",
    "plt.title(\"\")\n",
    "plt.show()"
   ]
  },
  {
   "cell_type": "code",
   "execution_count": 48,
   "id": "154ea24a",
   "metadata": {},
   "outputs": [],
   "source": [
    "# X = df[\"D_TYPE\"] \n",
    "# y = df[\"GOODS_TYPE\"] \n",
    "# sns.barplot(x=X, y=y)\n",
    "# plt.title(\"\")\n",
    "# plt.show()"
   ]
  },
  {
   "cell_type": "code",
   "execution_count": 49,
   "id": "119c316b",
   "metadata": {},
   "outputs": [
    {
     "data": {
      "image/png": "[encoded data removed]",
      "text/plain": [
       "<Figure size 432x288 with 1 Axes>"
      ]
     },
     "metadata": {
      "needs_background": "light"
     },
     "output_type": "display_data"
    }
   ],
   "source": [
    "X = df[\"D_TYPE\"] \n",
    "y = df[\"GOODS_TYPE\"] \n",
    "sns.scatterplot(x = X, y = y)\n",
    "plt.show()"
   ]
  },
  {
   "cell_type": "code",
   "execution_count": 50,
   "id": "563d8695",
   "metadata": {},
   "outputs": [
    {
     "name": "stderr",
     "output_type": "stream",
     "text": [
      "<ipython-input-50-b478a9466679>:3: DeprecationWarning: `np.bool` is a deprecated alias for the builtin `bool`. To silence this warning, use `bool` by itself. Doing this will not modify any behavior and is safe. If you specifically wanted the numpy scalar type, use `np.bool_` here.\n",
      "Deprecated in NumPy 1.20; for more details and guidance: https://numpy.org/devdocs/release/1.20.0-notes.html#deprecations\n",
      "  mask = np.triu(np.ones_like(corr, dtype=np.bool))\n"
     ]
    },
    {
     "data": {
      "image/png": "[encoded data removed]",
      "text/plain": [
       "<Figure size 720x720 with 2 Axes>"
      ]
     },
     "metadata": {},
     "output_type": "display_data"
    }
   ],
   "source": [
    "sns.set(style=\"white\")\n",
    "corr = df.corr()\n",
    "mask = np.triu(np.ones_like(corr, dtype=np.bool))\n",
    "f, ax = plt.subplots(figsize=(10, 10))\n",
    "cmap = sns.diverging_palette(220, 10, as_cmap=True)\n",
    "plt.title('Correlation Matrix', fontsize=18)\n",
    "sns.heatmap(corr, mask=mask, cmap=cmap, vmax=.3, center=0,\n",
    "            square=True, linewidths=.5, annot=True)\n",
    "plt.show()"
   ]
  },
  {
   "cell_type": "markdown",
   "id": "9f6d50a7",
   "metadata": {},
   "source": [
    "* train, test set 생성"
   ]
  },
  {
   "cell_type": "code",
   "execution_count": 51,
   "id": "e0e90876",
   "metadata": {},
   "outputs": [],
   "source": [
    "df_train = df[df['DATE']<'2020-10-01']\n",
    "df_test=df[df['DATE']>='2020-10-01']"
   ]
  },
  {
   "cell_type": "markdown",
   "id": "d866cf85",
   "metadata": {},
   "source": [
    "## ⚡ 3. "
   ]
  },
  {
   "cell_type": "code",
   "execution_count": null,
   "id": "3279b248",
   "metadata": {},
   "outputs": [],
   "source": []
  }
 ],
 "metadata": {
  "kernelspec": {
   "display_name": "Python 3",
   "language": "python",
   "name": "python3"
  },
  "language_info": {
   "codemirror_mode": {
    "name": "ipython",
    "version": 3
   },
   "file_extension": ".py",
   "mimetype": "text/x-python",
   "name": "python",
   "nbconvert_exporter": "python",
   "pygments_lexer": "ipython3",
   "version": "3.8.8"
  }
 },
 "nbformat": 4,
 "nbformat_minor": 5
}
